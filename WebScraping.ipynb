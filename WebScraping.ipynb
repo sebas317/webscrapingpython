{
 "metadata": {
  "language_info": {
   "codemirror_mode": {
    "name": "ipython",
    "version": 3
   },
   "file_extension": ".py",
   "mimetype": "text/x-python",
   "name": "python",
   "nbconvert_exporter": "python",
   "pygments_lexer": "ipython3",
   "version": "3.9.2"
  },
  "orig_nbformat": 2,
  "kernelspec": {
   "name": "python392jvsc74a57bd0ac59ebe37160ed0dfa835113d9b8498d9f09ceb179beaac4002f036b9467c963",
   "display_name": "Python 3.9.2 64-bit"
  },
  "metadata": {
   "interpreter": {
    "hash": "ac59ebe37160ed0dfa835113d9b8498d9f09ceb179beaac4002f036b9467c963"
   }
  }
 },
 "nbformat": 4,
 "nbformat_minor": 2,
 "cells": [
  {
   "source": [
    "# BS4\n",
    "# https://www.crummy.com/software/BeautifulSoup/bs4/doc/#"
   ],
   "cell_type": "markdown",
   "metadata": {}
  },
  {
   "cell_type": "code",
   "execution_count": 1,
   "metadata": {},
   "outputs": [],
   "source": [
    "from selenium import webdriver\n",
    "from bs4 import BeautifulSoup\n",
    "import pandas as pd\n",
    "import requests"
   ]
  },
  {
   "cell_type": "code",
   "execution_count": 2,
   "metadata": {},
   "outputs": [],
   "source": [
    "URL ='https://listado.mercadolibre.com.co/ford-ecosport-titanium-2015#D[A:ford%20ecosport%20titanium%202015]'\n",
    "page = requests.get(URL)"
   ]
  },
  {
   "cell_type": "code",
   "execution_count": 3,
   "metadata": {},
   "outputs": [],
   "source": [
    "html = BeautifulSoup(page.content, 'html.parser')"
   ]
  },
  {
   "cell_type": "code",
   "execution_count": 4,
   "metadata": {},
   "outputs": [],
   "source": [
    "results = html.find_all('ol',class_='ui-search-layout ui-search-layout--grid')"
   ]
  },
  {
   "cell_type": "code",
   "execution_count": 6,
   "metadata": {
    "tags": []
   },
   "outputs": [],
   "source": [
    "links_of_publication=[]\n",
    "for job_elem in results:\n",
    "    links_publication=job_elem.find_all('a',class_='ui-search-result__content ui-search-link')\n",
    "    for link in links_publication:\n",
    "        links_of_publication.append(link.attrs['href'])"
   ]
  },
  {
   "cell_type": "code",
   "execution_count": 7,
   "metadata": {},
   "outputs": [
    {
     "output_type": "execute_result",
     "data": {
      "text/plain": [
       "['https://carro.mercadolibre.com.co/MCO-621340304-ford-ecosport-titanium-20-at-_JM#position=1&search_layout=grid&type=item&tracking_id=9c3b3f96-3ca1-44f9-bc9c-9a03875b30fd',\n",
       " 'https://carro.mercadolibre.com.co/MCO-627337383-ford-ecosport-titanium-_JM#position=2&search_layout=grid&type=item&tracking_id=9c3b3f96-3ca1-44f9-bc9c-9a03875b30fd',\n",
       " 'https://carro.mercadolibre.com.co/MCO-620917147-ford-ecosport-titanium-_JM#position=3&search_layout=grid&type=item&tracking_id=9c3b3f96-3ca1-44f9-bc9c-9a03875b30fd',\n",
       " 'https://carro.mercadolibre.com.co/MCO-630206064-ford-ecosport-titanium-_JM#position=4&search_layout=grid&type=item&tracking_id=9c3b3f96-3ca1-44f9-bc9c-9a03875b30fd',\n",
       " 'https://carro.mercadolibre.com.co/MCO-624093663-ford-ecosport-titanium-_JM#position=5&search_layout=grid&type=item&tracking_id=9c3b3f96-3ca1-44f9-bc9c-9a03875b30fd',\n",
       " 'https://carro.mercadolibre.com.co/MCO-622132186-ford-ecosport-titanium-automatica-_JM#position=6&search_layout=grid&type=item&tracking_id=9c3b3f96-3ca1-44f9-bc9c-9a03875b30fd',\n",
       " 'https://carro.mercadolibre.com.co/MCO-625919460-ford-ecosport-ecosport-titanium-_JM#position=7&search_layout=grid&type=item&tracking_id=9c3b3f96-3ca1-44f9-bc9c-9a03875b30fd',\n",
       " 'https://carro.mercadolibre.com.co/MCO-627967539-ford-ecosport-_JM#position=8&search_layout=grid&type=item&tracking_id=9c3b3f96-3ca1-44f9-bc9c-9a03875b30fd',\n",
       " 'https://carro.mercadolibre.com.co/MCO-629383227-ford-ecosport-titanium-mod-2018-_JM#position=9&search_layout=grid&type=item&tracking_id=9c3b3f96-3ca1-44f9-bc9c-9a03875b30fd',\n",
       " 'https://carro.mercadolibre.com.co/MCO-625820644-ford-ecosport-mt-20-4x2-_JM#position=10&search_layout=grid&type=item&tracking_id=9c3b3f96-3ca1-44f9-bc9c-9a03875b30fd',\n",
       " 'https://carro.mercadolibre.com.co/MCO-622611987-ford-ecosport-se-at-20-4x2-automatica-_JM#position=11&search_layout=grid&type=item&tracking_id=9c3b3f96-3ca1-44f9-bc9c-9a03875b30fd',\n",
       " 'https://carro.mercadolibre.com.co/MCO-621144651-ford-ecosport-titanium-id-39925-modelo-2020-_JM#position=12&search_layout=grid&type=item&tracking_id=9c3b3f96-3ca1-44f9-bc9c-9a03875b30fd',\n",
       " 'https://carro.mercadolibre.com.co/MCO-615696432-ford-ecosport-titanium-20-_JM#position=13&search_layout=grid&type=item&tracking_id=9c3b3f96-3ca1-44f9-bc9c-9a03875b30fd',\n",
       " 'https://carro.mercadolibre.com.co/MCO-629736888-ford-ecosport-_JM#position=14&search_layout=grid&type=item&tracking_id=9c3b3f96-3ca1-44f9-bc9c-9a03875b30fd',\n",
       " 'https://carro.mercadolibre.com.co/MCO-624743800-ford-ecosport-mt-2000cc-4x2-_JM#position=15&search_layout=grid&type=item&tracking_id=9c3b3f96-3ca1-44f9-bc9c-9a03875b30fd',\n",
       " 'https://carro.mercadolibre.com.co/MCO-622579056-ford-ecosport-titanium-15-mt-black-edition-_JM#position=16&search_layout=grid&type=item&tracking_id=9c3b3f96-3ca1-44f9-bc9c-9a03875b30fd',\n",
       " 'https://carro.mercadolibre.com.co/MCO-622658361-ford-ecosport-titanium-tp-20-4x2-_JM#position=17&search_layout=grid&type=item&tracking_id=9c3b3f96-3ca1-44f9-bc9c-9a03875b30fd',\n",
       " 'https://carro.mercadolibre.com.co/MCO-630360224-ford-ecosport-titanium-_JM#position=18&search_layout=grid&type=item&tracking_id=9c3b3f96-3ca1-44f9-bc9c-9a03875b30fd',\n",
       " 'https://carro.mercadolibre.com.co/MCO-630718356-ford-ecosport-_JM#position=19&search_layout=grid&type=item&tracking_id=9c3b3f96-3ca1-44f9-bc9c-9a03875b30fd',\n",
       " 'https://carro.mercadolibre.com.co/MCO-628420490-ford-ecosport-titanium-20-at-_JM#position=20&search_layout=grid&type=item&tracking_id=9c3b3f96-3ca1-44f9-bc9c-9a03875b30fd',\n",
       " 'https://carro.mercadolibre.com.co/MCO-629835904-ford-ecosport-titanium-20-at-_JM#position=21&search_layout=grid&type=item&tracking_id=9c3b3f96-3ca1-44f9-bc9c-9a03875b30fd',\n",
       " 'https://carro.mercadolibre.com.co/MCO-628364881-ford-ecosport-titanium-2000cc-at-aa-_JM#position=22&search_layout=grid&type=item&tracking_id=9c3b3f96-3ca1-44f9-bc9c-9a03875b30fd',\n",
       " 'https://carro.mercadolibre.com.co/MCO-621477697-ford-ecosport-titanium-20-_JM#position=23&search_layout=grid&type=item&tracking_id=9c3b3f96-3ca1-44f9-bc9c-9a03875b30fd',\n",
       " 'https://carro.mercadolibre.com.co/MCO-621342673-ford-ecosport-titanium-_JM#position=24&search_layout=grid&type=item&tracking_id=9c3b3f96-3ca1-44f9-bc9c-9a03875b30fd',\n",
       " 'https://carro.mercadolibre.com.co/MCO-628208456-ford-ecosport-se-aut2015-utk480-_JM#position=25&search_layout=grid&type=item&tracking_id=9c3b3f96-3ca1-44f9-bc9c-9a03875b30fd',\n",
       " 'https://carro.mercadolibre.com.co/MCO-628939913-ford-ecosport-2015-automatica-full-_JM#position=26&search_layout=grid&type=item&tracking_id=9c3b3f96-3ca1-44f9-bc9c-9a03875b30fd',\n",
       " 'https://carro.mercadolibre.com.co/MCO-622202479-ford-ecosport-titanium-_JM#position=27&search_layout=grid&type=item&tracking_id=9c3b3f96-3ca1-44f9-bc9c-9a03875b30fd',\n",
       " 'https://carro.mercadolibre.com.co/MCO-623345760-ford-ecosport-_JM#position=28&search_layout=grid&type=item&tracking_id=9c3b3f96-3ca1-44f9-bc9c-9a03875b30fd',\n",
       " 'https://carro.mercadolibre.com.co/MCO-631423879-ford-ecosport-titanium-automatica-_JM#position=29&search_layout=grid&type=item&tracking_id=9c3b3f96-3ca1-44f9-bc9c-9a03875b30fd',\n",
       " 'https://carro.mercadolibre.com.co/MCO-630101995-ford-ecosport-se-mt-_JM#position=30&search_layout=grid&type=item&tracking_id=9c3b3f96-3ca1-44f9-bc9c-9a03875b30fd',\n",
       " 'https://carro.mercadolibre.com.co/MCO-609836246-ford-ecosport-20-automatica-_JM#position=31&search_layout=grid&type=item&tracking_id=9c3b3f96-3ca1-44f9-bc9c-9a03875b30fd',\n",
       " 'https://carro.mercadolibre.com.co/MCO-617070638-ford-ecosport-ecosport-titanium-_JM#position=32&search_layout=grid&type=item&tracking_id=9c3b3f96-3ca1-44f9-bc9c-9a03875b30fd',\n",
       " 'https://carro.mercadolibre.com.co/MCO-628035578-ford-ecosport-_JM#position=33&search_layout=grid&type=item&tracking_id=9c3b3f96-3ca1-44f9-bc9c-9a03875b30fd',\n",
       " 'https://carro.mercadolibre.com.co/MCO-624093617-ford-ecosport-titanium-_JM#position=34&search_layout=grid&type=item&tracking_id=9c3b3f96-3ca1-44f9-bc9c-9a03875b30fd',\n",
       " 'https://carro.mercadolibre.com.co/MCO-611458644-ford-ecosport-titanium-at-2021-_JM#position=35&search_layout=grid&type=item&tracking_id=9c3b3f96-3ca1-44f9-bc9c-9a03875b30fd',\n",
       " 'https://carro.mercadolibre.com.co/MCO-627969454-ford-ecosport-at-titanium-2016-_JM#position=36&search_layout=grid&type=item&tracking_id=9c3b3f96-3ca1-44f9-bc9c-9a03875b30fd',\n",
       " 'https://carro.mercadolibre.com.co/MCO-611817221-ford-ecosport-titanium-_JM#position=37&search_layout=grid&type=item&tracking_id=9c3b3f96-3ca1-44f9-bc9c-9a03875b30fd',\n",
       " 'https://carro.mercadolibre.com.co/MCO-628089620-ford-ecosport-titanium-at-mod-2018-_JM#position=38&search_layout=grid&type=item&tracking_id=9c3b3f96-3ca1-44f9-bc9c-9a03875b30fd',\n",
       " 'https://carro.mercadolibre.com.co/MCO-623930888-ford-ecosport-2015-_JM#position=39&search_layout=grid&type=item&tracking_id=9c3b3f96-3ca1-44f9-bc9c-9a03875b30fd',\n",
       " 'https://carro.mercadolibre.com.co/MCO-630862152-ford-ecosport-se-_JM#position=40&search_layout=grid&type=item&tracking_id=9c3b3f96-3ca1-44f9-bc9c-9a03875b30fd',\n",
       " 'https://carro.mercadolibre.com.co/MCO-616902603-ford-ecosport-_JM#position=41&search_layout=grid&type=item&tracking_id=9c3b3f96-3ca1-44f9-bc9c-9a03875b30fd',\n",
       " 'https://carro.mercadolibre.com.co/MCO-629541661-ford-ecosport-titanium-_JM#position=42&search_layout=grid&type=item&tracking_id=9c3b3f96-3ca1-44f9-bc9c-9a03875b30fd',\n",
       " 'https://carro.mercadolibre.com.co/MCO-627939006-ford-ecosport-titanium-_JM#position=43&search_layout=grid&type=item&tracking_id=9c3b3f96-3ca1-44f9-bc9c-9a03875b30fd',\n",
       " 'https://carro.mercadolibre.com.co/MCO-631969747-ford-ecosport-titanium-_JM#position=44&search_layout=grid&type=item&tracking_id=9c3b3f96-3ca1-44f9-bc9c-9a03875b30fd',\n",
       " 'https://carro.mercadolibre.com.co/MCO-628860643-ford-2015-_JM#position=45&search_layout=grid&type=item&tracking_id=9c3b3f96-3ca1-44f9-bc9c-9a03875b30fd',\n",
       " 'https://carro.mercadolibre.com.co/MCO-627756885-ford-ecosport-titanium-_JM#position=46&search_layout=grid&type=item&tracking_id=9c3b3f96-3ca1-44f9-bc9c-9a03875b30fd',\n",
       " 'https://carro.mercadolibre.com.co/MCO-628104722-ford-ecosport-titanium-_JM#position=47&search_layout=grid&type=item&tracking_id=9c3b3f96-3ca1-44f9-bc9c-9a03875b30fd',\n",
       " 'https://carro.mercadolibre.com.co/MCO-630861645-ford-ecosport-titanium-_JM#position=48&search_layout=grid&type=item&tracking_id=9c3b3f96-3ca1-44f9-bc9c-9a03875b30fd']"
      ]
     },
     "metadata": {},
     "execution_count": 7
    }
   ],
   "source": [
    "links_of_publication"
   ]
  },
  {
   "cell_type": "code",
   "execution_count": 8,
   "metadata": {},
   "outputs": [],
   "source": [
    "url_publication=links_of_publication[0]\n",
    "page_publication = requests.get(url_publication)\n",
    "html_publication = BeautifulSoup(page_publication.content, 'html.parser')"
   ]
  },
  {
   "cell_type": "code",
   "execution_count": 9,
   "metadata": {},
   "outputs": [],
   "source": [
    "# Información basica\n",
    "div_data_basica=html_publication.find('div',class_='ui-pdp-container__row ui-pdp-component-list pr-16 pl-16')\n",
    "subtitle=div_data_basica.find('span', class_='ui-pdp-subtitle').text\n",
    "title=div_data_basica.find('h1', class_='ui-pdp-title').text\n",
    "price=div_data_basica.find('span', class_='price-tag-fraction').text\n"
   ]
  },
  {
   "cell_type": "code",
   "execution_count": 10,
   "metadata": {},
   "outputs": [],
   "source": [
    "# Features\n",
    "rows_features = html_publication.find('table',class_='andes-table')\n",
    "list_features_table = rows_features.find_all('tr',class_='andes-table__row')\n",
    "list_features=[]\n",
    "\n",
    "for row in list_features_table:\n",
    "    name_feature=row.find('th').text\n",
    "    value_feature=row.find('td').text\n",
    "    list_features.append([name_feature,value_feature])\n"
   ]
  },
  {
   "cell_type": "code",
   "execution_count": 19,
   "metadata": {},
   "outputs": [],
   "source": [
    "# Location car\n",
    "div_questions = html_publication.find('div',class_='ui-pdp-container__row ui-pdp-container__row--questions')\n",
    "#div_location = div_questions.find('span',class_=['ui-pdp-color--BLACK', 'ui-pdp-size--SMALL','ui-pdp-family--SEMIBOLD'])\n",
    "#location = div_location.find('span').text"
   ]
  },
  {
   "cell_type": "code",
   "execution_count": 24,
   "metadata": {},
   "outputs": [],
   "source": [
    "div_questions"
   ]
  },
  {
   "cell_type": "code",
   "execution_count": 26,
   "metadata": {},
   "outputs": [
    {
     "output_type": "execute_result",
     "data": {
      "text/plain": [
       "[['Marca', 'Ford'],\n",
       " ['Modelo', 'Ecosport'],\n",
       " ['Año', '2015'],\n",
       " ['Color', 'Gris'],\n",
       " ['Tipo de combustible', 'Gasolina'],\n",
       " ['Puertas', '5'],\n",
       " ['Transmisión', 'Automática'],\n",
       " ['Motor', '2000'],\n",
       " ['Kilómetros', '79000 km']]"
      ]
     },
     "metadata": {},
     "execution_count": 26
    }
   ],
   "source": [
    "list_features"
   ]
  }
 ]
}